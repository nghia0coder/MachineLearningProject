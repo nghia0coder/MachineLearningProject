{
  "nbformat": 4,
  "nbformat_minor": 0,
  "metadata": {
    "colab": {
      "provenance": []
    },
    "kernelspec": {
      "name": "python3",
      "display_name": "Python 3"
    },
    "language_info": {
      "name": "python"
    }
  },
  "cells": [
    {
      "cell_type": "code",
      "execution_count": null,
      "metadata": {
        "id": "Cr-of3xI2OuA"
      },
      "outputs": [],
      "source": [
        "import pandas as pd\n",
        "from sklearn.model_selection import train_test_split\n",
        "from sklearn.linear_model import LinearRegression\n",
        "from sklearn.preprocessing import StandardScaler\n",
        "from sklearn.linear_model import LogisticRegression\n",
        "from sklearn.metrics import mean_squared_error, r2_score\n",
        "import matplotlib.pyplot as plt\n",
        "import seaborn as sns\n",
        "import numpy as np\n",
        "from sklearn.metrics import confusion_matrix\n",
        "from sklearn.metrics import accuracy_score, classification_report\n",
        "from sklearn.metrics import accuracy_score, confusion_matrix, classification_report\n"
      ]
    },
    {
      "cell_type": "code",
      "source": [
        "data = pd.read_csv(\"BostonHousing.csv\")"
      ],
      "metadata": {
        "id": "fE4a9CAP3II8"
      },
      "execution_count": null,
      "outputs": []
    },
    {
      "cell_type": "code",
      "source": [
        "print(data)"
      ],
      "metadata": {
        "id": "4FJ9wZGU3RpG",
        "colab": {
          "base_uri": "https://localhost:8080/"
        },
        "outputId": "0330857e-e711-4606-f14d-9700612cac44"
      },
      "execution_count": null,
      "outputs": [
        {
          "output_type": "stream",
          "name": "stdout",
          "text": [
            "        CRIM    ZN  INDUS  CHAS    NOX     RM   AGE     DIS  RAD  TAX  \\\n",
            "0    0.00632  18.0   2.31     0  0.538  6.575  65.2  4.0900    1  296   \n",
            "1    0.02731   0.0   7.07     0  0.469  6.421  78.9  4.9671    2  242   \n",
            "2    0.02729   0.0   7.07     0  0.469  7.185  61.1  4.9671    2  242   \n",
            "3    0.03237   0.0   2.18     0  0.458  6.998  45.8  6.0622    3  222   \n",
            "4    0.06905   0.0   2.18     0  0.458  7.147  54.2  6.0622    3  222   \n",
            "..       ...   ...    ...   ...    ...    ...   ...     ...  ...  ...   \n",
            "501  0.06263   0.0  11.93     0  0.573  6.593  69.1  2.4786    1  273   \n",
            "502  0.04527   0.0  11.93     0  0.573  6.120  76.7  2.2875    1  273   \n",
            "503  0.06076   0.0  11.93     0  0.573  6.976  91.0  2.1675    1  273   \n",
            "504  0.10959   0.0  11.93     0  0.573  6.794  89.3  2.3889    1  273   \n",
            "505  0.04741   0.0  11.93     0  0.573  6.030  80.8  2.5050    1  273   \n",
            "\n",
            "     PTRATIO  LSTAT  MEDV  CAT. MEDV  \n",
            "0       15.3   4.98  24.0          0  \n",
            "1       17.8   9.14  21.6          0  \n",
            "2       17.8   4.03  34.7          1  \n",
            "3       18.7   2.94  33.4          1  \n",
            "4       18.7   5.33  36.2          1  \n",
            "..       ...    ...   ...        ...  \n",
            "501     21.0   9.67  22.4          0  \n",
            "502     21.0   9.08  20.6          0  \n",
            "503     21.0   5.64  23.9          0  \n",
            "504     21.0   6.48  22.0          0  \n",
            "505     21.0   7.88  11.9          0  \n",
            "\n",
            "[506 rows x 14 columns]\n"
          ]
        }
      ]
    },
    {
      "cell_type": "code",
      "source": [
        "def compute_cost(X, Y, w, b):\n",
        "    m = len(Y)\n",
        "    predictions = np.dot(X, w) + b\n",
        "    squared_errors = (predictions - Y) ** 2\n",
        "    cost = (1/(2*m))* np.sum(squared_errors)\n",
        "\n",
        "    return cost"
      ],
      "metadata": {
        "id": "DqYb0wd5A2FN"
      },
      "execution_count": null,
      "outputs": []
    },
    {
      "cell_type": "code",
      "source": [
        "def compute_gradient(X, Y, w, b,alpha):\n",
        "  m = len(Y)\n",
        "  predictions = np.dot(X,w) + b\n",
        "  error = predictions - Y\n",
        "  dj_dw = (1/m) * np.dot(X.T, error) + 2 * alpha * w #2 L2 Regularization\n",
        "  dj_db = (1/m) * np.sum(error)\n",
        "  return dj_dw, dj_db"
      ],
      "metadata": {
        "id": "Hu1RyAIxA359"
      },
      "execution_count": null,
      "outputs": []
    },
    {
      "cell_type": "code",
      "source": [
        "def gradient_descent (X, Y, w_in, b_in, learning_rate, num_iters, alpha_in):\n",
        "  m = len(Y)\n",
        "  w = w_in\n",
        "  b = b_in\n",
        "  alpha = alpha_in\n",
        "  for _ in range(num_iters):\n",
        "    dj_dw, dj_db = compute_gradient(X, Y, w, b, alpha)\n",
        "    w -= learning_rate * dj_dw\n",
        "    b -= learning_rate * dj_db\n",
        "  return w, b"
      ],
      "metadata": {
        "id": "qgMd-a_jA5TH"
      },
      "execution_count": null,
      "outputs": []
    },
    {
      "cell_type": "code",
      "source": [
        "class MultivariableLinearRegressionModel:\n",
        "    def __init__(self):\n",
        "      self.w = 0\n",
        "      self.b = None\n",
        "      self.alpha = 0\n",
        "    def fit (self, X, Y, learning_rate, num_iters, alpha):\n",
        "      n = X.shape[1]\n",
        "      self.w = np.zeros(n)\n",
        "      self.b = 0\n",
        "      self.apha = alpha\n",
        "      self.w, self.b = gradient_descent(X, Y, self.w, self.b, learning_rate, num_iters,self.alpha)\n",
        "    def predict(self, X):\n",
        "      if self.w is None or self.b is None:\n",
        "        raise ValueError(\"Mô hình chưa được huấn luyện. Vui lòng gọi phương thức 'fit' trước.\")\n",
        "      predictions = np.dot(X, self.w) + self.b\n",
        "      return predictions\n",
        "    def mean_squared_error(y_true, y_pred):\n",
        "        return np.mean((y_true - y_pred) ** 2)\n",
        "    def r_squared(y_true, y_pred):\n",
        "        mean_y = np.mean(y_true)\n",
        "        ss_total = np.sum((y_true - mean_y) ** 2)\n",
        "        ss_residual = np.sum((y_true - y_pred) ** 2)\n",
        "        return 1 - (ss_residual / ss_total)\n"
      ],
      "metadata": {
        "id": "gQBEf9dpA7lL"
      },
      "execution_count": null,
      "outputs": []
    },
    {
      "cell_type": "code",
      "source": [
        "class MultivariableLinearRegressionOLSModel:\n",
        "    def __init__(self):\n",
        "        self.w = None\n",
        "        self.b = None\n",
        "\n",
        "    def fit(self, X, Y):\n",
        "        X = np.column_stack((np.ones(len(X)), X))\n",
        "        self.weights = np.linalg.inv(X.T @ X) @ X.T @ Y\n",
        "        self.b = self.weights[0]\n",
        "        self.w = self.weights[1:]\n",
        "    def predict(self, X):\n",
        "        X = np.column_stack((np.ones(len(X)), X))\n",
        "        predictions = X @ self.weights\n",
        "        return predictions\n",
        "\n",
        "    def mean_squared_error(y_true, y_pred):\n",
        "        return np.mean((y_true - y_pred) ** 2)\n",
        "\n",
        "    def r_squared(y_true, y_pred):\n",
        "        mean_y = np.mean(y_true)\n",
        "        ss_total = np.sum((y_true - mean_y) ** 2)\n",
        "        ss_residual = np.sum((y_true - y_pred) ** 2)\n",
        "        return 1 - (ss_residual / ss_total)\n"
      ],
      "metadata": {
        "id": "qE-PElcNdw9l"
      },
      "execution_count": null,
      "outputs": []
    },
    {
      "cell_type": "code",
      "source": [
        "X = data.drop(columns=[\"MEDV\"], axis=1)\n",
        "Y = data[\"MEDV\"]\n",
        "\n",
        "\n",
        "\n",
        "X_train, X_test, Y_train, Y_test = train_test_split(X, Y, test_size=0.2, random_state=42)\n",
        "\n",
        "\n",
        "model = MultivariableLinearRegressionModel()\n",
        "model.fit(X_train, Y_train, learning_rate=5.0e-7, num_iters=100000, alpha = 0.5) #alpha is the regularization parameter\n",
        "\n",
        "\n",
        "y_predict = model.predict(X_test)\n",
        "\n",
        "\n",
        "mse = mean_squared_error(Y_test, y_predict)\n",
        "r2 = r2_score(Y_test, y_predict)\n",
        "\n",
        "print(\"Mean Squared Error:\", mse)\n",
        "print(f'R-squared: {r2}')\n"
      ],
      "metadata": {
        "id": "PIfRPAh_BBIH",
        "colab": {
          "base_uri": "https://localhost:8080/"
        },
        "outputId": "c3dcef3a-e636-4c9f-b5cf-c4be072803e8"
      },
      "execution_count": null,
      "outputs": [
        {
          "output_type": "stream",
          "name": "stdout",
          "text": [
            "Mean Squared Error: 47.456540691343356\n",
            "R-squared: 0.3528693237113726\n"
          ]
        }
      ]
    },
    {
      "cell_type": "code",
      "source": [
        "model = MultivariableLinearRegressionOLSModel()\n",
        "model.fit(X_train, Y_train)\n",
        "\n",
        "y_predict = model.predict(X_test)\n",
        "\n",
        "mse = mean_squared_error(Y_test, y_predict)\n",
        "r2 = r2_score(Y_test, y_predict)\n",
        "\n",
        "print(\"Mean Squared Error:\", mse)\n",
        "print(f'R-squared: {r2}')"
      ],
      "metadata": {
        "colab": {
          "base_uri": "https://localhost:8080/"
        },
        "id": "aMR_aybgd4Dg",
        "outputId": "eee7c811-c736-46dc-ab9f-99f3d44b5835"
      },
      "execution_count": null,
      "outputs": [
        {
          "output_type": "stream",
          "name": "stdout",
          "text": [
            "Mean Squared Error: 14.800689134521617\n",
            "R-squared: 0.7981736588965522\n"
          ]
        }
      ]
    },
    {
      "cell_type": "code",
      "source": [
        "print(\"Acutual\",Y_test.values)"
      ],
      "metadata": {
        "colab": {
          "base_uri": "https://localhost:8080/"
        },
        "id": "CbZ6LRDcaYsD",
        "outputId": "aabb0d49-8b92-452d-ed1c-6bba42f8faea"
      },
      "execution_count": null,
      "outputs": [
        {
          "output_type": "stream",
          "name": "stdout",
          "text": [
            "Acutual [23.6 32.4 13.6 22.8 16.1 20.  17.8 14.  19.6 16.8 21.5 18.9  7.  21.2\n",
            " 18.5 29.8 18.8 10.2 50.  14.1 25.2 29.1 12.7 22.4 14.2 13.8 20.3 14.9\n",
            " 21.7 18.3 23.1 23.8 15.  20.8 19.1 19.4 34.7 19.5 24.4 23.4 19.7 28.2\n",
            " 50.  17.4 22.6 15.1 13.1 24.2 19.9 24.  18.9 35.4 15.2 26.5 43.5 21.2\n",
            " 18.4 28.5 23.9 18.5 25.  35.4 31.5 20.2 24.1 20.  13.1 24.8 30.8 12.7\n",
            " 20.  23.7 10.8 20.6 20.8  5.  20.1 48.5 10.9  7.  20.9 17.2 20.9  9.7\n",
            " 19.4 29.  16.4 25.  25.  17.1 23.2 10.4 19.6 17.2 27.5 23.  50.  17.9\n",
            "  9.6 17.2 22.5 21.4]\n"
          ]
        }
      ]
    },
    {
      "cell_type": "code",
      "source": [
        "plt.scatter(Y_test, y_predict)\n",
        "plt.xlabel(\"Thực tế (Y_test)\")\n",
        "plt.ylabel(\"Dự đoán (y_pred_multivariable)\")\n",
        "plt.title(\"Scatterplot giữa Thực tế và Dự đoán của Multivariable Linear Regression\")\n",
        "plt.show()"
      ],
      "metadata": {
        "colab": {
          "base_uri": "https://localhost:8080/",
          "height": 475
        },
        "id": "PdPGzrS85BDh",
        "outputId": "7d0b743b-1d73-4893-f71c-bd49f5a5a4da"
      },
      "execution_count": null,
      "outputs": [
        {
          "output_type": "display_data",
          "data": {
            "text/plain": [
              "<Figure size 640x480 with 1 Axes>"
            ],
            "image/png": "[encoded data removed]"
          },
          "metadata": {}
        }
      ]
    },
    {
      "cell_type": "code",
      "source": [
        "# Biểu đồ Phân bố Residuals\n",
        "residuals = Y_test - y_predict\n",
        "sns.histplot(residuals, kde=True)\n",
        "plt.xlabel(\"Residuals\")\n",
        "plt.ylabel(\"Số lượng\")\n",
        "plt.title(\"Phân phối của Residuals\")\n",
        "plt.show()\n"
      ],
      "metadata": {
        "colab": {
          "base_uri": "https://localhost:8080/",
          "height": 473
        },
        "id": "Mv3_YfCV5IKg",
        "outputId": "4c2f3be9-1381-41e5-9b69-791873a72e8a"
      },
      "execution_count": null,
      "outputs": [
        {
          "output_type": "display_data",
          "data": {
            "text/plain": [
              "<Figure size 640x480 with 1 Axes>"
            ],
            "image/png": "[encoded data removed]"
          },
          "metadata": {}
        }
      ]
    },
    {
      "cell_type": "code",
      "source": [
        "model = LinearRegression()\n",
        "model.fit(X_train, Y_train)\n",
        "\n",
        "\n",
        "y_pred = model.predict(X_test)\n",
        "\n",
        "\n",
        "mse = mean_squared_error(Y_test, y_pred)\n",
        "r2 = r2_score(Y_test, y_pred)\n",
        "\n",
        "print(f'Mean Squared Error: {mse}')\n",
        "print(f'R-squared: {r2}')\n",
        "\n"
      ],
      "metadata": {
        "colab": {
          "base_uri": "https://localhost:8080/"
        },
        "id": "TH063DyC7exq",
        "outputId": "5b768c24-c5d8-4eb7-d4a7-9574274cc5e8"
      },
      "execution_count": null,
      "outputs": [
        {
          "output_type": "stream",
          "name": "stdout",
          "text": [
            "Mean Squared Error: 14.800689134522331\n",
            "R-squared: 0.7981736588965425\n"
          ]
        }
      ]
    },
    {
      "cell_type": "code",
      "source": [
        "class LogisticRegressionModel:\n",
        "    def __init__(self):\n",
        "        self.w = None\n",
        "        self.b = None\n",
        "        self.alpha = 0\n",
        "    def sigmoid(self, z):\n",
        "        return 1 / (1 + np.exp(-z))\n",
        "\n",
        "    def initialize_parameters(self, dim):\n",
        "        self.w = np.zeros((dim, 1))\n",
        "        self.b = 0\n",
        "\n",
        "    def gradient_descent(self, X, y):\n",
        "        m = X.shape[0]\n",
        "        A = self.sigmoid(np.dot(X, self.w) + self.b)\n",
        "        cost = -1/m * np.sum(y * np.log(A) + (1 - y) * np.log(1 - A))\n",
        "        dw = 1/m * np.dot(X.T, (A - y))\n",
        "        db = 1/m * np.sum(A - y)\n",
        "        return dw, db, cost\n",
        "\n",
        "    def optimize(self, X, y,learning_rate,epochs,alpha):\n",
        "        for i in range(epochs):\n",
        "            dw, db, cost = self.gradient_descent(X, y)\n",
        "            self.w -= learning_rate * dw\n",
        "            self.b -= learning_rate * db\n",
        "    def fit(self, X, y,learning_rate,epochs,alpha):\n",
        "        self.initialize_parameters(X.shape[1])\n",
        "        self.optimize(X, y,learning_rate,epochs,alpha)\n",
        "\n",
        "    def predict(self, X):\n",
        "        A = self.sigmoid(np.dot(X, self.w) + self.b)\n",
        "        predictions = (A >= 0.5).astype(int)\n",
        "        return predictions"
      ],
      "metadata": {
        "id": "2SQi248LNmAk"
      },
      "execution_count": null,
      "outputs": []
    },
    {
      "cell_type": "code",
      "source": [
        "X = data.drop(columns=[\"CHAS\"], axis=1)\n",
        "Y = data[\"CHAS\"].values.reshape(-1, 1)\n",
        "\n",
        "# Chia dữ liệu thành tập huấn luyện và tập kiểm tra\n",
        "X_train, X_test, y_train, y_test = train_test_split(X, Y, test_size=0.2, random_state=42)\n",
        "\n",
        "# Huấn luyện mô hình không sử dụng thư viện\n",
        "model = LogisticRegressionModel()\n",
        "model.fit(X_train, y_train,learning_rate=5.0e-7, epochs=100000, alpha=0.05)\n",
        "\n",
        "y_pred = model.predict(X_test)\n",
        "\n",
        "accuracy = accuracy_score(y_test, y_pred)\n",
        "conf_matrix = confusion_matrix(y_test, y_pred)\n",
        "classification_rep = classification_report(y_test, y_pred)\n",
        "\n",
        "print(\"Logistic Regression without library:\")\n",
        "print(f'Accuracy: {accuracy}')\n",
        "print(f'Confusion Matrix:\\n{conf_matrix}')\n",
        "print(f'Classification Report:\\n{classification_rep}')"
      ],
      "metadata": {
        "colab": {
          "base_uri": "https://localhost:8080/"
        },
        "id": "HUIObhfG5TsJ",
        "outputId": "e599c5b5-3d7f-473d-e58b-8d16e35d3134"
      },
      "execution_count": null,
      "outputs": [
        {
          "output_type": "stream",
          "name": "stdout",
          "text": [
            "Logistic Regression without library:\n",
            "Accuracy: 0.9411764705882353\n",
            "Confusion Matrix:\n",
            "[[96  0]\n",
            " [ 6  0]]\n",
            "Classification Report:\n",
            "              precision    recall  f1-score   support\n",
            "\n",
            "           0       0.94      1.00      0.97        96\n",
            "           1       0.00      0.00      0.00         6\n",
            "\n",
            "    accuracy                           0.94       102\n",
            "   macro avg       0.47      0.50      0.48       102\n",
            "weighted avg       0.89      0.94      0.91       102\n",
            "\n"
          ]
        },
        {
          "output_type": "stream",
          "name": "stderr",
          "text": [
            "/usr/local/lib/python3.10/dist-packages/sklearn/metrics/_classification.py:1344: UndefinedMetricWarning: Precision and F-score are ill-defined and being set to 0.0 in labels with no predicted samples. Use `zero_division` parameter to control this behavior.\n",
            "  _warn_prf(average, modifier, msg_start, len(result))\n",
            "/usr/local/lib/python3.10/dist-packages/sklearn/metrics/_classification.py:1344: UndefinedMetricWarning: Precision and F-score are ill-defined and being set to 0.0 in labels with no predicted samples. Use `zero_division` parameter to control this behavior.\n",
            "  _warn_prf(average, modifier, msg_start, len(result))\n",
            "/usr/local/lib/python3.10/dist-packages/sklearn/metrics/_classification.py:1344: UndefinedMetricWarning: Precision and F-score are ill-defined and being set to 0.0 in labels with no predicted samples. Use `zero_division` parameter to control this behavior.\n",
            "  _warn_prf(average, modifier, msg_start, len(result))\n"
          ]
        }
      ]
    },
    {
      "cell_type": "code",
      "source": [
        "import pandas as pd\n",
        "\n",
        "# Giả sử 'data' là DataFrame của bạn\n",
        "count_chas = data['CHAS'].value_counts()\n",
        "\n",
        "# In số lượng\n",
        "print(\"Số lượng CHAS=0:\", count_chas[0])\n",
        "print(\"Số lượng CHAS=1:\", count_chas[1])\n"
      ],
      "metadata": {
        "colab": {
          "base_uri": "https://localhost:8080/"
        },
        "id": "VQxu6YGe784j",
        "outputId": "33b70066-4949-440c-b0c5-295251e7a869"
      },
      "execution_count": null,
      "outputs": [
        {
          "output_type": "stream",
          "name": "stdout",
          "text": [
            "Số lượng CHAS=0: 471\n",
            "Số lượng CHAS=1: 35\n"
          ]
        }
      ]
    },
    {
      "cell_type": "code",
      "source": [
        "import matplotlib.pyplot as plt\n",
        "\n",
        "# Giả sử 'data' là DataFrame của bạn\n",
        "count_chas = data['CHAS'].value_counts()\n",
        "\n",
        "# Tạo biểu đồ cột\n",
        "plt.bar(count_chas.index, count_chas.values, color=['blue', 'green'])\n",
        "plt.xlabel('CHAS')\n",
        "plt.ylabel('Số lượng')\n",
        "plt.title('Số lượng theo giá trị CHAS')\n",
        "plt.xticks(count_chas.index, ['CHAS=0', 'CHAS=1'])\n",
        "plt.show()\n"
      ],
      "metadata": {
        "colab": {
          "base_uri": "https://localhost:8080/",
          "height": 473
        },
        "id": "H6mko1lvB2S_",
        "outputId": "45571a89-2907-4d6a-e88d-f6c366dfa0fe"
      },
      "execution_count": null,
      "outputs": [
        {
          "output_type": "display_data",
          "data": {
            "text/plain": [
              "<Figure size 640x480 with 1 Axes>"
            ],
            "image/png": "[encoded data removed]"
          },
          "metadata": {}
        }
      ]
    },
    {
      "cell_type": "code",
      "source": [
        "from imblearn.over_sampling import SMOTE\n",
        "import pandas as pd\n",
        "\n",
        "\n",
        "X = data.drop(columns=[\"CHAS\", \"CAT. MEDV\"], axis=1)\n",
        "y = data[\"CHAS\"]\n",
        "\n",
        "smote = SMOTE(random_state=42)\n",
        "X_resampled, y_resampled = smote.fit_resample(X, y)\n",
        "\n",
        "data_resampled = pd.concat([pd.DataFrame(X_resampled, columns=X.columns), pd.Series(y_resampled, name=\"CHAS\")], axis=1)"
      ],
      "metadata": {
        "id": "Fl6c7I9_eXX7"
      },
      "execution_count": null,
      "outputs": []
    },
    {
      "cell_type": "code",
      "source": [
        "count_chas = data_resampled['CHAS'].value_counts()\n",
        "\n",
        "# In số lượng\n",
        "print(\"Số lượng CHAS=0:\", count_chas[0])\n",
        "print(\"Số lượng CHAS=1:\", count_chas[1])"
      ],
      "metadata": {
        "colab": {
          "base_uri": "https://localhost:8080/"
        },
        "id": "vp01vLlz-OBW",
        "outputId": "c9f90e41-cb0f-468a-f007-61520b8de93c"
      },
      "execution_count": null,
      "outputs": [
        {
          "output_type": "stream",
          "name": "stdout",
          "text": [
            "Số lượng CHAS=0: 471\n",
            "Số lượng CHAS=1: 471\n"
          ]
        }
      ]
    },
    {
      "cell_type": "code",
      "source": [
        "import matplotlib.pyplot as plt\n",
        "\n",
        "# Giả sử 'data' là DataFrame của bạn\n",
        "count_chas = data_resampled['CHAS'].value_counts()\n",
        "\n",
        "# Tạo biểu đồ cột\n",
        "plt.bar(count_chas.index, count_chas.values, color=['blue', 'green'])\n",
        "plt.xlabel('CHAS')\n",
        "plt.ylabel('Số lượng')\n",
        "plt.title('Số lượng theo giá trị CHAS')\n",
        "plt.xticks(count_chas.index, ['CHAS=0', 'CHAS=1'])\n",
        "plt.show()\n"
      ],
      "metadata": {
        "colab": {
          "base_uri": "https://localhost:8080/",
          "height": 473
        },
        "id": "4T_pCqTTCT7Z",
        "outputId": "bc3f5071-14b1-4f15-834d-feb12940cd09"
      },
      "execution_count": null,
      "outputs": [
        {
          "output_type": "display_data",
          "data": {
            "text/plain": [
              "<Figure size 640x480 with 1 Axes>"
            ],
            "image/png": "[encoded data removed]"
          },
          "metadata": {}
        }
      ]
    },
    {
      "cell_type": "code",
      "source": [
        "X = data_resampled.drop(columns=[\"CHAS\"], axis=1)\n",
        "Y = data_resampled[\"CHAS\"].values.reshape(-1, 1)\n",
        "\n",
        "# Chia dữ liệu thành tập huấn luyện và tập kiểm tra\n",
        "X_train, X_test, y_train, y_test = train_test_split(X, Y, test_size=0.2, random_state=42)\n",
        "\n",
        "# Huấn luyện mô hình không sử dụng thư viện\n",
        "model = LogisticRegressionModel()\n",
        "model.fit(X_train, y_train,learning_rate=5.0e-7, epochs=100000, alpha=0.05)\n",
        "\n",
        "y_pred = model.predict(X_test)\n",
        "\n",
        "accuracy = accuracy_score(y_test, y_pred)\n",
        "conf_matrix = confusion_matrix(y_test, y_pred)\n",
        "classification_rep = classification_report(y_test, y_pred)\n",
        "\n",
        "print(\"Logistic Regression without library:\")\n",
        "print(f'Accuracy: {accuracy}')\n",
        "print(f'Confusion Matrix:\\n{conf_matrix}')\n",
        "print(f'Classification Report:\\n{classification_rep}')\n",
        "\n"
      ],
      "metadata": {
        "colab": {
          "base_uri": "https://localhost:8080/"
        },
        "id": "tFUu2WAROLuc",
        "outputId": "fde6a03f-97d4-4f9a-eaae-a9cc33c9e49a"
      },
      "execution_count": null,
      "outputs": [
        {
          "output_type": "stream",
          "name": "stdout",
          "text": [
            "Logistic Regression without library:\n",
            "Accuracy: 0.6825396825396826\n",
            "Confusion Matrix:\n",
            "[[53 36]\n",
            " [24 76]]\n",
            "Classification Report:\n",
            "              precision    recall  f1-score   support\n",
            "\n",
            "           0       0.69      0.60      0.64        89\n",
            "           1       0.68      0.76      0.72       100\n",
            "\n",
            "    accuracy                           0.68       189\n",
            "   macro avg       0.68      0.68      0.68       189\n",
            "weighted avg       0.68      0.68      0.68       189\n",
            "\n"
          ]
        }
      ]
    },
    {
      "cell_type": "code",
      "source": [
        "print(data_resampled)"
      ],
      "metadata": {
        "id": "c-mmPejnZD4N"
      },
      "execution_count": null,
      "outputs": []
    },
    {
      "cell_type": "code",
      "source": [
        "# Biểu đồ Categorical với Logistic Regression\n",
        "sns.countplot(x=y_test.squeeze(), label=\"Thực tế\")\n",
        "sns.countplot(x=y_pred.squeeze(), label=\"Dự đoán\")\n",
        "plt.xlabel(\"Lớp\")\n",
        "plt.ylabel(\"Số lượng\")\n",
        "plt.title(\"Phân phối lớp thực tế và lớp dự đoán\")\n",
        "plt.legend()\n",
        "plt.show()"
      ],
      "metadata": {
        "id": "t7rIDpxz5Sm1",
        "colab": {
          "base_uri": "https://localhost:8080/",
          "height": 474
        },
        "outputId": "07e340c2-a426-4f51-ffb1-d43d228287b1"
      },
      "execution_count": null,
      "outputs": [
        {
          "output_type": "display_data",
          "data": {
            "text/plain": [
              "<Figure size 640x480 with 1 Axes>"
            ],
            "image/png": "[encoded data removed]"
          },
          "metadata": {}
        }
      ]
    },
    {
      "cell_type": "code",
      "source": [
        "model_library = LogisticRegression()\n",
        "model_library.fit(X_train, y_train)\n",
        "\n",
        "y_pred_library = model_library.predict(X_test)\n",
        "\n",
        "accuracy_library = accuracy_score(y_test, y_pred_library)\n",
        "conf_matrix_library = confusion_matrix(y_test, y_pred_library)\n",
        "classification_rep_library = classification_report(y_test, y_pred_library)\n",
        "\n",
        "print(\"\\nLogistic Regression with library:\")\n",
        "print(f'Accuracy: {accuracy_library}')\n",
        "print(f'Confusion Matrix:\\n{conf_matrix_library}')\n",
        "print(f'Classification Report:\\n{classification_rep_library}')\n"
      ],
      "metadata": {
        "colab": {
          "base_uri": "https://localhost:8080/"
        },
        "id": "7ktJuTFrGdkO",
        "outputId": "eaec7346-2b32-440f-a4ce-b6888cd52542"
      },
      "execution_count": null,
      "outputs": [
        {
          "output_type": "stream",
          "name": "stdout",
          "text": [
            "\n",
            "Logistic Regression with library:\n",
            "Accuracy: 0.8465608465608465\n",
            "Confusion Matrix:\n",
            "[[70 19]\n",
            " [10 90]]\n",
            "Classification Report:\n",
            "              precision    recall  f1-score   support\n",
            "\n",
            "           0       0.88      0.79      0.83        89\n",
            "           1       0.83      0.90      0.86       100\n",
            "\n",
            "    accuracy                           0.85       189\n",
            "   macro avg       0.85      0.84      0.84       189\n",
            "weighted avg       0.85      0.85      0.85       189\n",
            "\n"
          ]
        },
        {
          "output_type": "stream",
          "name": "stderr",
          "text": [
            "/usr/local/lib/python3.10/dist-packages/sklearn/utils/validation.py:1143: DataConversionWarning: A column-vector y was passed when a 1d array was expected. Please change the shape of y to (n_samples, ), for example using ravel().\n",
            "  y = column_or_1d(y, warn=True)\n",
            "/usr/local/lib/python3.10/dist-packages/sklearn/linear_model/_logistic.py:458: ConvergenceWarning: lbfgs failed to converge (status=1):\n",
            "STOP: TOTAL NO. of ITERATIONS REACHED LIMIT.\n",
            "\n",
            "Increase the number of iterations (max_iter) or scale the data as shown in:\n",
            "    https://scikit-learn.org/stable/modules/preprocessing.html\n",
            "Please also refer to the documentation for alternative solver options:\n",
            "    https://scikit-learn.org/stable/modules/linear_model.html#logistic-regression\n",
            "  n_iter_i = _check_optimize_result(\n"
          ]
        }
      ]
    }
  ]
}